{
 "cells": [
  {
   "cell_type": "code",
   "execution_count": 1,
   "metadata": {},
   "outputs": [
    {
     "name": "stderr",
     "output_type": "stream",
     "text": [
      "[nltk_data] Downloading package stopwords to\n",
      "[nltk_data]     /home/student1/sushovan.saha/nltk_data...\n",
      "[nltk_data]   Package stopwords is already up-to-date!\n"
     ]
    }
   ],
   "source": [
    "import numpy as np\n",
    "import pandas as pd\n",
    "from matplotlib import pyplot as plt\n",
    "import torch\n",
    "from torch import nn\n",
    "from sklearn.model_selection import train_test_split\n",
    "import warnings\n",
    "warnings.filterwarnings(action='ignore',category=UserWarning)\n",
    "warnings.filterwarnings(action='ignore',category=FutureWarning)\n",
    "import W2V2\n",
    "from sklearn import metrics"
   ]
  },
  {
   "cell_type": "code",
   "execution_count": 2,
   "metadata": {},
   "outputs": [],
   "source": [
    "glove_path = 'glove.6B.100d.txt'"
   ]
  },
  {
   "cell_type": "code",
   "execution_count": 3,
   "metadata": {},
   "outputs": [
    {
     "name": "stdout",
     "output_type": "stream",
     "text": [
      "number of word in vocabulary 143699\n",
      "word in sentences are replaced with word ID [[   3    2   24 ...    9  114 1996]\n",
      " [9796  590 2684 ...   61 1065 3100]\n",
      " [1958 2002 7091 ... 7257 2133 1951]\n",
      " ...\n",
      " [   2  900   94 ...  156  882   19]\n",
      " [   2   58 1794 ...   57   47   84]\n",
      " [3262 3233 4319 ...  472  382 2286]]\n",
      "The size of vocabulary  143700\n",
      "Loaded 400000 word vectors.\n",
      "(26590, 120, 100)\n"
     ]
    }
   ],
   "source": [
    "X_train,y_train = W2V2.Sentence2Vec(filename='Train.xlsx',glovepath=glove_path, embedding_dim=100, max_length=120)"
   ]
  },
  {
   "cell_type": "code",
   "execution_count": 4,
   "metadata": {},
   "outputs": [
    {
     "name": "stdout",
     "output_type": "stream",
     "text": [
      "number of word in vocabulary 37490\n",
      "word in sentences are replaced with word ID [[   15  2444  1170 ...  6866  6867   292]\n",
      " [ 1849  1254 17674 ... 10294   477   271]\n",
      " [   66  3773   922 ...   352  1242    17]\n",
      " ...\n",
      " [  252   610  3654 ...  2282  1443   403]\n",
      " [   36    49    73 ...  4708   219   997]\n",
      " [  452   312   956 ...    12   394     6]]\n",
      "The size of vocabulary  37491\n",
      "Loaded 400000 word vectors.\n",
      "(1300, 120, 100)\n"
     ]
    }
   ],
   "source": [
    "X_test,y_test = W2V2.Sentence2Vec(filename='Test.xlsx',glovepath=glove_path)"
   ]
  },
  {
   "cell_type": "code",
   "execution_count": 5,
   "metadata": {},
   "outputs": [
    {
     "name": "stdout",
     "output_type": "stream",
     "text": [
      "number of word in vocabulary 41258\n",
      "word in sentences are replaced with word ID [[  678   762  2405 ...   156  1774 13380]\n",
      " [20298  1337  3805 ...  7151   474   819]\n",
      " [  529   263   409 ...   967    43  2739]\n",
      " ...\n",
      " [ 1097  1201  1228 ...  1433 25652  8927]\n",
      " [  509  1503  2792 ...  8678  1904  8830]\n",
      " [  130  1361  9149 ...  2951   613   385]]\n",
      "The size of vocabulary  41259\n",
      "Loaded 400000 word vectors.\n",
      "(2355, 120, 100)\n"
     ]
    }
   ],
   "source": [
    "X_valid,y_valid = W2V2.Sentence2Vec(filename='Valid.xlsx',glovepath=glove_path)"
   ]
  },
  {
   "cell_type": "code",
   "execution_count": 6,
   "metadata": {},
   "outputs": [
    {
     "data": {
      "text/plain": [
       "(26590, 120, 100)"
      ]
     },
     "execution_count": 6,
     "metadata": {},
     "output_type": "execute_result"
    }
   ],
   "source": [
    "X_train.shape"
   ]
  },
  {
   "cell_type": "code",
   "execution_count": 7,
   "metadata": {},
   "outputs": [
    {
     "data": {
      "text/plain": [
       "2    10241\n",
       "0     8861\n",
       "1     7488\n",
       "dtype: int64"
      ]
     },
     "execution_count": 7,
     "metadata": {},
     "output_type": "execute_result"
    }
   ],
   "source": [
    "pd.Series(y_train).value_counts()"
   ]
  },
  {
   "cell_type": "code",
   "execution_count": 8,
   "metadata": {},
   "outputs": [
    {
     "data": {
      "text/plain": [
       "0    1639\n",
       "1     618\n",
       "2      98\n",
       "dtype: int64"
      ]
     },
     "execution_count": 8,
     "metadata": {},
     "output_type": "execute_result"
    }
   ],
   "source": [
    "pd.Series(y_valid).value_counts()"
   ]
  },
  {
   "cell_type": "code",
   "execution_count": 9,
   "metadata": {},
   "outputs": [
    {
     "data": {
      "text/plain": [
       "2    599\n",
       "0    402\n",
       "1    299\n",
       "dtype: int64"
      ]
     },
     "execution_count": 9,
     "metadata": {},
     "output_type": "execute_result"
    }
   ],
   "source": [
    "pd.Series(y_test).value_counts()"
   ]
  },
  {
   "cell_type": "code",
   "execution_count": 10,
   "metadata": {},
   "outputs": [],
   "source": [
    "max_length = X_train.shape[1]"
   ]
  },
  {
   "cell_type": "code",
   "execution_count": 11,
   "metadata": {},
   "outputs": [],
   "source": [
    "from torch.autograd import Variable\n",
    "class myLSTM(nn.Module):\n",
    "\n",
    "    def __init__(self, dimension):\n",
    "        super().__init__()\n",
    "        \n",
    "        self.lstm = nn.LSTM(input_size=dimension,\n",
    "                            hidden_size=max_length,\n",
    "                            num_layers=2,\n",
    "                            batch_first=True,\n",
    "                            bidirectional=False)\n",
    "        self.drop = nn.Dropout(p=0.5)\n",
    "\n",
    "        self.fc = nn.Linear(max_length, 3)\n",
    "        self.act = nn.Softmax()\n",
    "\n",
    "    def forward(self, x, batch_size):\n",
    "        h_0 = Variable(torch.zeros(2, batch_size, max_length))\n",
    "        c_0 = Variable(torch.zeros(2, batch_size, max_length))\n",
    "        x, (final_hidden_state, final_cell_state) = self.lstm(x, (h_0, c_0))\n",
    "        #print(x.shape)\n",
    "        x = self.fc(final_hidden_state[-1])\n",
    "        #print(x.shape)\n",
    "        x = self.act(x)\n",
    "        return x.squeeze()\n",
    "        "
   ]
  },
  {
   "cell_type": "code",
   "execution_count": 12,
   "metadata": {},
   "outputs": [],
   "source": [
    "def train(model, x, y, loss_fn, optimizer, batch_size=1024):\n",
    "    model.train()\n",
    "    x, y = torch.Tensor(x), torch.Tensor(y)\n",
    "    y = y.type(torch.LongTensor)\n",
    "    net_loss = 0\n",
    "    \n",
    "    for i in range(0, len(x), batch_size):\n",
    "        i_end = i+batch_size\n",
    "        x_batch = x[i:min(i_end, len(x))]\n",
    "        y_batch = y[i:min(i_end, len(x))]\n",
    "        \n",
    "        pred = model(x_batch,x_batch.shape[0])\n",
    "        loss = loss_fn(pred, y_batch)\n",
    "        net_loss = net_loss+loss.item()\n",
    "        \n",
    "        optimizer.zero_grad()\n",
    "        loss.backward()\n",
    "        optimizer.step()\n",
    "        \n",
    "    return net_loss\n",
    "\n",
    "def test(model, xts, yts,batchsize):\n",
    "    model.eval()\n",
    "    with torch.no_grad():\n",
    "        xts = torch.Tensor(xts)\n",
    "        pred = model(xts,batchsize)\n",
    "        loss = loss_fn(pred, torch.Tensor(yts).type(torch.LongTensor))\n",
    "        yhat = np.argmax(pred, axis=1).numpy()\n",
    "        acc = np.sum(yhat==yts)*100/yhat.shape[0]\n",
    "        f1 = metrics.f1_score(yts,yhat,average=None)\n",
    "        return acc, f1,loss"
   ]
  },
  {
   "cell_type": "code",
   "execution_count": 13,
   "metadata": {},
   "outputs": [
    {
     "name": "stdout",
     "output_type": "stream",
     "text": [
      "--- Epoch 1 ---\n",
      "\tCross Entropy Loss (Training) : 113.12444508075714 \n",
      "\tTrain Accuracy : 42.00 % \n",
      "\tTest Accuracy : 38.38 % \n",
      "--- Epoch 2 ---\n",
      "\tCross Entropy Loss (Training) : 111.97745180130005 \n",
      "\tTrain Accuracy : 44.63 % \n",
      "\tTest Accuracy : 44.62 % \n",
      "--- Epoch 3 ---\n",
      "\tCross Entropy Loss (Training) : 111.48885571956635 \n",
      "\tTrain Accuracy : 44.54 % \n",
      "\tTest Accuracy : 43.69 % \n",
      "--- Epoch 4 ---\n",
      "\tCross Entropy Loss (Training) : 114.02873229980469 \n",
      "\tTrain Accuracy : 38.51 % \n",
      "\tTest Accuracy : 46.08 % \n",
      "--- Epoch 5 ---\n",
      "\tCross Entropy Loss (Training) : 113.40291106700897 \n",
      "\tTrain Accuracy : 38.51 % \n",
      "\tTest Accuracy : 46.08 % \n",
      "--- Epoch 6 ---\n",
      "\tCross Entropy Loss (Training) : 113.39244151115417 \n",
      "\tTrain Accuracy : 38.51 % \n",
      "\tTest Accuracy : 46.08 % \n",
      "--- Epoch 7 ---\n",
      "\tCross Entropy Loss (Training) : 113.39441967010498 \n",
      "\tTrain Accuracy : 38.51 % \n",
      "\tTest Accuracy : 46.08 % \n",
      "--- Epoch 8 ---\n",
      "\tCross Entropy Loss (Training) : 113.31799745559692 \n",
      "\tTrain Accuracy : 38.52 % \n",
      "\tTest Accuracy : 46.08 % \n"
     ]
    }
   ],
   "source": [
    "model = myLSTM(X_train.shape[2])\n",
    "loss_fn = nn.CrossEntropyLoss()\n",
    "optimizer = torch.optim.Adam(model.parameters())\n",
    "batch_size = 256\n",
    "epochs = 8\n",
    "train_loss = []\n",
    "test_acc = []\n",
    "train_acc = []\n",
    "test_loss = []\n",
    "\n",
    "for i in range(epochs):\n",
    "    print(\"--- Epoch {} ---\".format(i+1))\n",
    "    epoch_loss = train(model, X_train, y_train, loss_fn, optimizer, batch_size)\n",
    "    train_loss.append(epoch_loss)\n",
    "    print(\"\\tCross Entropy Loss (Training) : {} \".format(epoch_loss))\n",
    "\n",
    "    acc, _, __ = test(model, X_train, y_train, batchsize=X_train.shape[0])\n",
    "    print(\"\\tTrain Accuracy : {:.2f} % \".format(acc))\n",
    "    train_acc.append(acc)\n",
    "    \n",
    "    acc, _, tst_loss = test(model, X_test, y_test, batchsize=X_test.shape[0])\n",
    "    print(\"\\tTest Accuracy : {:.2f} % \".format(acc))\n",
    "    test_acc.append(acc)\n",
    "    test_loss.append(tst_loss)\n"
   ]
  },
  {
   "cell_type": "code",
   "execution_count": 14,
   "metadata": {},
   "outputs": [
    {
     "data": {
      "image/png": "[encoded data removed]",
      "text/plain": [
       "<Figure size 504x504 with 1 Axes>"
      ]
     },
     "metadata": {
      "needs_background": "light"
     },
     "output_type": "display_data"
    }
   ],
   "source": [
    "plt.figure(figsize=(7,7))\n",
    "plt.plot(range(epochs), train_loss, label=\"train loss\")\n",
    "plt.xlabel(\"epochs\")\n",
    "plt.ylabel(\"loss\")\n",
    "plt.title(\"Loss vs epochs\")\n",
    "plt.legend(loc=\"best\")\n",
    "plt.show()"
   ]
  },
  {
   "cell_type": "code",
   "execution_count": 15,
   "metadata": {},
   "outputs": [
    {
     "data": {
      "image/png": "[encoded data removed]",
      "text/plain": [
       "<Figure size 504x504 with 1 Axes>"
      ]
     },
     "metadata": {
      "needs_background": "light"
     },
     "output_type": "display_data"
    }
   ],
   "source": [
    "plt.figure(figsize=(7,7))\n",
    "plt.plot(range(epochs), test_loss, label=\"test loss\")\n",
    "plt.xlabel(\"epochs\")\n",
    "plt.ylabel(\"loss\")\n",
    "plt.ylim(0, 15)\n",
    "plt.title(\"Loss vs epochs\")\n",
    "plt.legend(loc=\"best\")\n",
    "plt.show()"
   ]
  },
  {
   "cell_type": "code",
   "execution_count": 16,
   "metadata": {},
   "outputs": [
    {
     "data": {
      "image/png": "[encoded data removed]",
      "text/plain": [
       "<Figure size 504x504 with 1 Axes>"
      ]
     },
     "metadata": {
      "needs_background": "light"
     },
     "output_type": "display_data"
    }
   ],
   "source": [
    "plt.figure(figsize=(7,7))\n",
    "plt.plot(range(epochs), train_acc, label=\"train accuracy\")\n",
    "plt.plot(range(epochs), test_acc, label=\"test accuracy\")\n",
    "plt.xlabel(\"epochs\")\n",
    "plt.ylabel(\"acc\")\n",
    "plt.title(\"Accuracy vs Epochs\")\n",
    "plt.legend(loc=\"best\")\n",
    "plt.show()"
   ]
  },
  {
   "cell_type": "code",
   "execution_count": null,
   "metadata": {},
   "outputs": [],
   "source": []
  },
  {
   "cell_type": "code",
   "execution_count": 17,
   "metadata": {},
   "outputs": [
    {
     "name": "stdout",
     "output_type": "stream",
     "text": [
      "Test Accuracy : 46.08 % \n",
      "Test Class-wise F1 Score : \n",
      "[0.         0.         0.63085835]\n"
     ]
    }
   ],
   "source": [
    "acc, f1, _ = test(model, X_test, y_test, batchsize=X_test.shape[0])\n",
    "print(\"Test Accuracy : {:.2f} % \".format(acc))\n",
    "print(\"Test Class-wise F1 Score : \\n{}\".format(f1))"
   ]
  },
  {
   "cell_type": "code",
   "execution_count": null,
   "metadata": {},
   "outputs": [],
   "source": []
  }
 ],
 "metadata": {
  "interpreter": {
   "hash": "f3cbbd3491d2f6c98b8c3d8ad5891315a0953a3882f43d17a58845e943883b72"
  },
  "kernelspec": {
   "display_name": "Python 3",
   "language": "python",
   "name": "python3"
  },
  "language_info": {
   "codemirror_mode": {
    "name": "ipython",
    "version": 3
   },
   "file_extension": ".py",
   "mimetype": "text/x-python",
   "name": "python",
   "nbconvert_exporter": "python",
   "pygments_lexer": "ipython3",
   "version": "3.8.8"
  }
 },
 "nbformat": 4,
 "nbformat_minor": 2
}

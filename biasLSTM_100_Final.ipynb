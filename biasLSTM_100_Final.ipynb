{
 "cells": [
  {
   "cell_type": "code",
   "execution_count": 1,
   "metadata": {},
   "outputs": [
    {
     "name": "stderr",
     "output_type": "stream",
     "text": [
      "[nltk_data] Downloading package stopwords to\n",
      "[nltk_data]     /home/student1/sushovan.saha/nltk_data...\n",
      "[nltk_data]   Package stopwords is already up-to-date!\n"
     ]
    }
   ],
   "source": [
    "import numpy as np\n",
    "import pandas as pd\n",
    "from matplotlib import pyplot as plt\n",
    "import torch\n",
    "from torch import nn\n",
    "from sklearn.model_selection import train_test_split\n",
    "import warnings\n",
    "warnings.filterwarnings(action='ignore',category=UserWarning)\n",
    "warnings.filterwarnings(action='ignore',category=FutureWarning)\n",
    "import W2V\n",
    "from sklearn import metrics"
   ]
  },
  {
   "cell_type": "code",
   "execution_count": 2,
   "metadata": {},
   "outputs": [],
   "source": [
    "glove_path = 'glove.6B.100d.txt'"
   ]
  },
  {
   "cell_type": "code",
   "execution_count": 3,
   "metadata": {},
   "outputs": [
    {
     "name": "stdout",
     "output_type": "stream",
     "text": [
      "number of word in vocabulary 143699\n",
      "word in sentences are replaced with word ID [[   3    2   24 ...    9  114 1996]\n",
      " [9796  590 2684 ...   61 1065 3100]\n",
      " [1958 2002 7091 ... 7257 2133 1951]\n",
      " ...\n",
      " [   2  900   94 ...  156  882   19]\n",
      " [   2   58 1794 ...   57   47   84]\n",
      " [3262 3233 4319 ...  472  382 2286]]\n",
      "The size of vocabulary  143700\n",
      "Loaded 400000 word vectors.\n",
      "(26590, 120, 100)\n"
     ]
    }
   ],
   "source": [
    "X_train,y_train = W2V.Sentence2Vec(filename='Train.xlsx',glovepath=glove_path)"
   ]
  },
  {
   "cell_type": "code",
   "execution_count": 4,
   "metadata": {},
   "outputs": [
    {
     "name": "stdout",
     "output_type": "stream",
     "text": [
      "number of word in vocabulary 37490\n",
      "word in sentences are replaced with word ID [[   15  2444  1170 ...  6866  6867   292]\n",
      " [ 1849  1254 17674 ... 10294   477   271]\n",
      " [   66  3773   922 ...   352  1242    17]\n",
      " ...\n",
      " [  252   610  3654 ...  2282  1443   403]\n",
      " [   36    49    73 ...  4708   219   997]\n",
      " [  452   312   956 ...    12   394     6]]\n",
      "The size of vocabulary  37491\n",
      "Loaded 400000 word vectors.\n",
      "(1300, 120, 100)\n"
     ]
    }
   ],
   "source": [
    "X_test,y_test = W2V.Sentence2Vec(filename='Test.xlsx',glovepath=glove_path)"
   ]
  },
  {
   "cell_type": "code",
   "execution_count": 5,
   "metadata": {},
   "outputs": [
    {
     "name": "stdout",
     "output_type": "stream",
     "text": [
      "number of word in vocabulary 41258\n",
      "word in sentences are replaced with word ID [[  678   762  2405 ...   156  1774 13380]\n",
      " [20298  1337  3805 ...  7151   474   819]\n",
      " [  529   263   409 ...   967    43  2739]\n",
      " ...\n",
      " [ 1097  1201  1228 ...  1433 25652  8927]\n",
      " [  509  1503  2792 ...  8678  1904  8830]\n",
      " [  130  1361  9149 ...  2951   613   385]]\n",
      "The size of vocabulary  41259\n",
      "Loaded 400000 word vectors.\n",
      "(2355, 120, 100)\n"
     ]
    }
   ],
   "source": [
    "X_valid,y_valid = W2V.Sentence2Vec(filename='Valid.xlsx',glovepath=glove_path)"
   ]
  },
  {
   "cell_type": "code",
   "execution_count": 6,
   "metadata": {},
   "outputs": [
    {
     "data": {
      "text/plain": [
       "(26590, 120, 100)"
      ]
     },
     "execution_count": 6,
     "metadata": {},
     "output_type": "execute_result"
    }
   ],
   "source": [
    "X_train.shape"
   ]
  },
  {
   "cell_type": "code",
   "execution_count": 7,
   "metadata": {},
   "outputs": [
    {
     "data": {
      "text/plain": [
       "2    10241\n",
       "0     8861\n",
       "1     7488\n",
       "dtype: int64"
      ]
     },
     "execution_count": 7,
     "metadata": {},
     "output_type": "execute_result"
    }
   ],
   "source": [
    "pd.Series(y_train).value_counts()"
   ]
  },
  {
   "cell_type": "code",
   "execution_count": 8,
   "metadata": {},
   "outputs": [
    {
     "data": {
      "text/plain": [
       "0    1639\n",
       "1     618\n",
       "2      98\n",
       "dtype: int64"
      ]
     },
     "execution_count": 8,
     "metadata": {},
     "output_type": "execute_result"
    }
   ],
   "source": [
    "pd.Series(y_valid).value_counts()"
   ]
  },
  {
   "cell_type": "code",
   "execution_count": 9,
   "metadata": {},
   "outputs": [],
   "source": [
    "max_length = X_train.shape[1]"
   ]
  },
  {
   "cell_type": "code",
   "execution_count": 10,
   "metadata": {},
   "outputs": [],
   "source": [
    "from torch.autograd import Variable\n",
    "class myLSTM(nn.Module):\n",
    "\n",
    "    def __init__(self, dimension):\n",
    "        super().__init__()\n",
    "        \n",
    "        self.lstm = nn.LSTM(input_size=dimension,\n",
    "                            hidden_size=max_length,\n",
    "                            num_layers=1,\n",
    "                            batch_first=True,\n",
    "                            bidirectional=False)\n",
    "        self.drop = nn.Dropout(p=0.5)\n",
    "\n",
    "        self.fc = nn.Linear(max_length, 3)\n",
    "        self.act = nn.Softmax()\n",
    "\n",
    "    def forward(self, x, batch_size):\n",
    "        h_0 = Variable(torch.zeros(1, batch_size, max_length))\n",
    "        c_0 = Variable(torch.zeros(1, batch_size, max_length))\n",
    "        x, (final_hidden_state, final_cell_state) = self.lstm(x, (h_0, c_0))\n",
    "        #print(x.shape)\n",
    "        x = self.fc(final_hidden_state[-1])\n",
    "        #print(x.shape)\n",
    "        x = self.act(x)\n",
    "        return x.squeeze()\n",
    "        "
   ]
  },
  {
   "cell_type": "code",
   "execution_count": 11,
   "metadata": {},
   "outputs": [],
   "source": [
    "def train(model, x, y, loss_fn, optimizer, batch_size=1024):\n",
    "    model.train()\n",
    "    x, y = torch.Tensor(x), torch.Tensor(y)\n",
    "    y = y.type(torch.LongTensor)\n",
    "    net_loss = 0\n",
    "    \n",
    "    for i in range(0, len(x), batch_size):\n",
    "        i_end = i+batch_size\n",
    "        x_batch = x[i:min(i_end, len(x))]\n",
    "        y_batch = y[i:min(i_end, len(x))]\n",
    "        \n",
    "        pred = model(x_batch,x_batch.shape[0])\n",
    "        loss = loss_fn(pred, y_batch)\n",
    "        net_loss = net_loss+loss.item()\n",
    "        \n",
    "        optimizer.zero_grad()\n",
    "        loss.backward()\n",
    "        optimizer.step()\n",
    "        \n",
    "    return loss.item()\n",
    "\n",
    "def test(model, xts, yts,batchsize):\n",
    "    model.eval()\n",
    "    with torch.no_grad():\n",
    "        xts = torch.Tensor(xts)\n",
    "        pred = model(xts,batchsize)\n",
    "        yhat = np.argmax(pred, axis=1).numpy()\n",
    "        acc = np.sum(yhat==yts)*100/yhat.shape[0]\n",
    "        f1 = metrics.f1_score(yts,yhat,average=None)\n",
    "        return acc, f1"
   ]
  },
  {
   "cell_type": "code",
   "execution_count": 12,
   "metadata": {},
   "outputs": [
    {
     "name": "stdout",
     "output_type": "stream",
     "text": [
      "--- Epoch 1 ---\n",
      "\tCross Entropy Loss (Training) : 1.097509741783142 \n",
      "\tTrain Accuracy : 38.51 % \n",
      "\tVal Accuracy : 4.16 % \n",
      "--- Epoch 2 ---\n",
      "\tCross Entropy Loss (Training) : 1.091568946838379 \n",
      "\tTrain Accuracy : 43.03 % \n",
      "\tVal Accuracy : 19.75 % \n",
      "--- Epoch 3 ---\n",
      "\tCross Entropy Loss (Training) : 1.1003952026367188 \n",
      "\tTrain Accuracy : 39.68 % \n",
      "\tVal Accuracy : 15.92 % \n",
      "--- Epoch 4 ---\n",
      "\tCross Entropy Loss (Training) : 1.0905539989471436 \n",
      "\tTrain Accuracy : 42.43 % \n",
      "\tVal Accuracy : 19.58 % \n",
      "--- Epoch 5 ---\n",
      "\tCross Entropy Loss (Training) : 1.0663297176361084 \n",
      "\tTrain Accuracy : 45.11 % \n",
      "\tVal Accuracy : 17.03 % \n",
      "--- Epoch 6 ---\n",
      "\tCross Entropy Loss (Training) : 1.0369538068771362 \n",
      "\tTrain Accuracy : 45.49 % \n",
      "\tVal Accuracy : 25.31 % \n",
      "--- Epoch 7 ---\n",
      "\tCross Entropy Loss (Training) : 1.0223597288131714 \n",
      "\tTrain Accuracy : 52.39 % \n",
      "\tVal Accuracy : 14.48 % \n",
      "--- Epoch 8 ---\n",
      "\tCross Entropy Loss (Training) : 1.0863182544708252 \n",
      "\tTrain Accuracy : 39.79 % \n",
      "\tVal Accuracy : 5.86 % \n",
      "--- Epoch 9 ---\n",
      "\tCross Entropy Loss (Training) : 1.0061880350112915 \n",
      "\tTrain Accuracy : 53.21 % \n",
      "\tVal Accuracy : 15.41 % \n",
      "--- Epoch 10 ---\n",
      "\tCross Entropy Loss (Training) : 0.9082557559013367 \n",
      "\tTrain Accuracy : 59.38 % \n",
      "\tVal Accuracy : 12.91 % \n",
      "--- Epoch 11 ---\n",
      "\tCross Entropy Loss (Training) : 0.8497380614280701 \n",
      "\tTrain Accuracy : 65.33 % \n",
      "\tVal Accuracy : 13.67 % \n",
      "--- Epoch 12 ---\n",
      "\tCross Entropy Loss (Training) : 0.8254613876342773 \n",
      "\tTrain Accuracy : 68.56 % \n",
      "\tVal Accuracy : 14.35 % \n",
      "--- Epoch 13 ---\n",
      "\tCross Entropy Loss (Training) : 0.8244816064834595 \n",
      "\tTrain Accuracy : 69.20 % \n",
      "\tVal Accuracy : 13.84 % \n",
      "--- Epoch 14 ---\n",
      "\tCross Entropy Loss (Training) : 0.7953761219978333 \n",
      "\tTrain Accuracy : 70.95 % \n",
      "\tVal Accuracy : 12.44 % \n",
      "--- Epoch 15 ---\n",
      "\tCross Entropy Loss (Training) : 0.7800732254981995 \n",
      "\tTrain Accuracy : 71.12 % \n",
      "\tVal Accuracy : 12.14 % \n",
      "--- Epoch 16 ---\n",
      "\tCross Entropy Loss (Training) : 0.7639232277870178 \n",
      "\tTrain Accuracy : 72.55 % \n",
      "\tVal Accuracy : 12.36 % \n",
      "--- Epoch 17 ---\n",
      "\tCross Entropy Loss (Training) : 0.755652129650116 \n",
      "\tTrain Accuracy : 74.57 % \n",
      "\tVal Accuracy : 15.75 % \n",
      "--- Epoch 18 ---\n",
      "\tCross Entropy Loss (Training) : 0.7553531527519226 \n",
      "\tTrain Accuracy : 75.37 % \n",
      "\tVal Accuracy : 14.61 % \n",
      "--- Epoch 19 ---\n",
      "\tCross Entropy Loss (Training) : 0.7507345080375671 \n",
      "\tTrain Accuracy : 76.30 % \n",
      "\tVal Accuracy : 17.49 % \n",
      "--- Epoch 20 ---\n",
      "\tCross Entropy Loss (Training) : 0.7391529083251953 \n",
      "\tTrain Accuracy : 76.39 % \n",
      "\tVal Accuracy : 14.31 % \n",
      "--- Epoch 21 ---\n",
      "\tCross Entropy Loss (Training) : 0.7230857610702515 \n",
      "\tTrain Accuracy : 77.53 % \n",
      "\tVal Accuracy : 15.88 % \n",
      "--- Epoch 22 ---\n",
      "\tCross Entropy Loss (Training) : 0.7232478857040405 \n",
      "\tTrain Accuracy : 77.70 % \n",
      "\tVal Accuracy : 13.50 % \n",
      "--- Epoch 23 ---\n",
      "\tCross Entropy Loss (Training) : 0.7376731634140015 \n",
      "\tTrain Accuracy : 74.80 % \n",
      "\tVal Accuracy : 10.06 % \n",
      "--- Epoch 24 ---\n",
      "\tCross Entropy Loss (Training) : 0.7401773929595947 \n",
      "\tTrain Accuracy : 78.39 % \n",
      "\tVal Accuracy : 16.69 % \n",
      "--- Epoch 25 ---\n",
      "\tCross Entropy Loss (Training) : 0.7323734760284424 \n",
      "\tTrain Accuracy : 78.66 % \n",
      "\tVal Accuracy : 14.99 % \n",
      "--- Epoch 26 ---\n",
      "\tCross Entropy Loss (Training) : 0.7288174033164978 \n",
      "\tTrain Accuracy : 79.27 % \n",
      "\tVal Accuracy : 15.97 % \n",
      "--- Epoch 27 ---\n",
      "\tCross Entropy Loss (Training) : 0.7162384390830994 \n",
      "\tTrain Accuracy : 79.50 % \n",
      "\tVal Accuracy : 16.39 % \n",
      "--- Epoch 28 ---\n",
      "\tCross Entropy Loss (Training) : 0.7347254753112793 \n",
      "\tTrain Accuracy : 78.74 % \n",
      "\tVal Accuracy : 19.92 % \n",
      "--- Epoch 29 ---\n",
      "\tCross Entropy Loss (Training) : 0.7246915102005005 \n",
      "\tTrain Accuracy : 80.33 % \n",
      "\tVal Accuracy : 14.18 % \n",
      "--- Epoch 30 ---\n",
      "\tCross Entropy Loss (Training) : 0.7047792077064514 \n",
      "\tTrain Accuracy : 80.84 % \n",
      "\tVal Accuracy : 15.03 % \n",
      "--- Epoch 31 ---\n",
      "\tCross Entropy Loss (Training) : 0.7196776866912842 \n",
      "\tTrain Accuracy : 81.29 % \n",
      "\tVal Accuracy : 14.78 % \n",
      "--- Epoch 32 ---\n",
      "\tCross Entropy Loss (Training) : 0.708208441734314 \n",
      "\tTrain Accuracy : 82.15 % \n",
      "\tVal Accuracy : 16.60 % \n",
      "--- Epoch 33 ---\n",
      "\tCross Entropy Loss (Training) : 0.7223540544509888 \n",
      "\tTrain Accuracy : 80.40 % \n",
      "\tVal Accuracy : 13.46 % \n",
      "--- Epoch 34 ---\n",
      "\tCross Entropy Loss (Training) : 0.7191677093505859 \n",
      "\tTrain Accuracy : 82.61 % \n",
      "\tVal Accuracy : 17.92 % \n",
      "--- Epoch 35 ---\n",
      "\tCross Entropy Loss (Training) : 0.7111905217170715 \n",
      "\tTrain Accuracy : 82.60 % \n",
      "\tVal Accuracy : 18.51 % \n",
      "--- Epoch 36 ---\n",
      "\tCross Entropy Loss (Training) : 0.7056538462638855 \n",
      "\tTrain Accuracy : 82.74 % \n",
      "\tVal Accuracy : 14.44 % \n",
      "--- Epoch 37 ---\n",
      "\tCross Entropy Loss (Training) : 0.7114416360855103 \n",
      "\tTrain Accuracy : 83.03 % \n",
      "\tVal Accuracy : 15.16 % \n",
      "--- Epoch 38 ---\n",
      "\tCross Entropy Loss (Training) : 0.6986691355705261 \n",
      "\tTrain Accuracy : 83.46 % \n",
      "\tVal Accuracy : 16.52 % \n",
      "--- Epoch 39 ---\n",
      "\tCross Entropy Loss (Training) : 0.6953178644180298 \n",
      "\tTrain Accuracy : 82.91 % \n",
      "\tVal Accuracy : 15.58 % \n",
      "--- Epoch 40 ---\n",
      "\tCross Entropy Loss (Training) : 0.6981151103973389 \n",
      "\tTrain Accuracy : 83.58 % \n",
      "\tVal Accuracy : 15.37 % \n",
      "--- Epoch 41 ---\n",
      "\tCross Entropy Loss (Training) : 0.6874437928199768 \n",
      "\tTrain Accuracy : 83.91 % \n",
      "\tVal Accuracy : 15.54 % \n",
      "--- Epoch 42 ---\n",
      "\tCross Entropy Loss (Training) : 0.701407790184021 \n",
      "\tTrain Accuracy : 83.66 % \n",
      "\tVal Accuracy : 18.60 % \n",
      "--- Epoch 43 ---\n",
      "\tCross Entropy Loss (Training) : 0.6831950545310974 \n",
      "\tTrain Accuracy : 84.71 % \n",
      "\tVal Accuracy : 16.86 % \n",
      "--- Epoch 44 ---\n",
      "\tCross Entropy Loss (Training) : 0.6859111785888672 \n",
      "\tTrain Accuracy : 85.02 % \n",
      "\tVal Accuracy : 17.66 % \n",
      "--- Epoch 45 ---\n",
      "\tCross Entropy Loss (Training) : 0.6806681752204895 \n",
      "\tTrain Accuracy : 85.25 % \n",
      "\tVal Accuracy : 19.02 % \n",
      "--- Epoch 46 ---\n",
      "\tCross Entropy Loss (Training) : 0.7187925577163696 \n",
      "\tTrain Accuracy : 82.99 % \n",
      "\tVal Accuracy : 21.57 % \n",
      "--- Epoch 47 ---\n",
      "\tCross Entropy Loss (Training) : 0.6987618207931519 \n",
      "\tTrain Accuracy : 83.47 % \n",
      "\tVal Accuracy : 21.70 % \n",
      "--- Epoch 48 ---\n",
      "\tCross Entropy Loss (Training) : 0.6873167157173157 \n",
      "\tTrain Accuracy : 85.17 % \n",
      "\tVal Accuracy : 19.83 % \n",
      "--- Epoch 49 ---\n",
      "\tCross Entropy Loss (Training) : 0.6722511649131775 \n",
      "\tTrain Accuracy : 85.83 % \n",
      "\tVal Accuracy : 17.75 % \n",
      "--- Epoch 50 ---\n",
      "\tCross Entropy Loss (Training) : 0.6781349778175354 \n",
      "\tTrain Accuracy : 84.92 % \n",
      "\tVal Accuracy : 19.79 % \n",
      "--- Epoch 51 ---\n",
      "\tCross Entropy Loss (Training) : 0.679133951663971 \n",
      "\tTrain Accuracy : 86.37 % \n",
      "\tVal Accuracy : 17.75 % \n",
      "--- Epoch 52 ---\n",
      "\tCross Entropy Loss (Training) : 0.6838669776916504 \n",
      "\tTrain Accuracy : 85.93 % \n",
      "\tVal Accuracy : 16.99 % \n",
      "--- Epoch 53 ---\n",
      "\tCross Entropy Loss (Training) : 0.6996570825576782 \n",
      "\tTrain Accuracy : 85.99 % \n",
      "\tVal Accuracy : 16.48 % \n",
      "--- Epoch 54 ---\n",
      "\tCross Entropy Loss (Training) : 0.7013083100318909 \n",
      "\tTrain Accuracy : 85.62 % \n",
      "\tVal Accuracy : 16.60 % \n",
      "--- Epoch 55 ---\n",
      "\tCross Entropy Loss (Training) : 0.6838042140007019 \n",
      "\tTrain Accuracy : 85.80 % \n",
      "\tVal Accuracy : 14.95 % \n",
      "--- Epoch 56 ---\n",
      "\tCross Entropy Loss (Training) : 0.7227787971496582 \n",
      "\tTrain Accuracy : 83.49 % \n",
      "\tVal Accuracy : 12.02 % \n",
      "--- Epoch 57 ---\n",
      "\tCross Entropy Loss (Training) : 0.7267802357673645 \n",
      "\tTrain Accuracy : 80.04 % \n",
      "\tVal Accuracy : 9.81 % \n",
      "--- Epoch 58 ---\n",
      "\tCross Entropy Loss (Training) : 0.6785376071929932 \n",
      "\tTrain Accuracy : 84.96 % \n",
      "\tVal Accuracy : 13.04 % \n",
      "--- Epoch 59 ---\n",
      "\tCross Entropy Loss (Training) : 0.663941502571106 \n",
      "\tTrain Accuracy : 85.60 % \n",
      "\tVal Accuracy : 12.61 % \n",
      "--- Epoch 60 ---\n",
      "\tCross Entropy Loss (Training) : 0.6643009185791016 \n",
      "\tTrain Accuracy : 86.29 % \n",
      "\tVal Accuracy : 14.48 % \n",
      "--- Epoch 61 ---\n",
      "\tCross Entropy Loss (Training) : 0.6648855805397034 \n",
      "\tTrain Accuracy : 85.92 % \n",
      "\tVal Accuracy : 13.50 % \n",
      "--- Epoch 62 ---\n",
      "\tCross Entropy Loss (Training) : 0.6575412154197693 \n",
      "\tTrain Accuracy : 84.70 % \n",
      "\tVal Accuracy : 11.21 % \n",
      "--- Epoch 63 ---\n",
      "\tCross Entropy Loss (Training) : 0.6665641665458679 \n",
      "\tTrain Accuracy : 83.57 % \n",
      "\tVal Accuracy : 11.13 % \n",
      "--- Epoch 64 ---\n",
      "\tCross Entropy Loss (Training) : 0.6556755900382996 \n",
      "\tTrain Accuracy : 86.88 % \n",
      "\tVal Accuracy : 13.76 % \n",
      "--- Epoch 65 ---\n",
      "\tCross Entropy Loss (Training) : 0.6797545552253723 \n",
      "\tTrain Accuracy : 86.72 % \n",
      "\tVal Accuracy : 18.56 % \n",
      "--- Epoch 66 ---\n",
      "\tCross Entropy Loss (Training) : 0.6660985350608826 \n",
      "\tTrain Accuracy : 88.85 % \n",
      "\tVal Accuracy : 17.37 % \n",
      "--- Epoch 67 ---\n",
      "\tCross Entropy Loss (Training) : 0.6597509980201721 \n",
      "\tTrain Accuracy : 88.52 % \n",
      "\tVal Accuracy : 16.52 % \n",
      "--- Epoch 68 ---\n",
      "\tCross Entropy Loss (Training) : 0.6630958914756775 \n"
     ]
    },
    {
     "name": "stdout",
     "output_type": "stream",
     "text": [
      "\tTrain Accuracy : 87.93 % \n",
      "\tVal Accuracy : 14.73 % \n",
      "--- Epoch 69 ---\n",
      "\tCross Entropy Loss (Training) : 0.6687315702438354 \n",
      "\tTrain Accuracy : 86.26 % \n",
      "\tVal Accuracy : 12.65 % \n",
      "--- Epoch 70 ---\n",
      "\tCross Entropy Loss (Training) : 0.6589778065681458 \n",
      "\tTrain Accuracy : 87.12 % \n",
      "\tVal Accuracy : 12.53 % \n"
     ]
    }
   ],
   "source": [
    "model = myLSTM(X_train.shape[2])\n",
    "loss_fn = nn.CrossEntropyLoss()\n",
    "optimizer = torch.optim.Adam(model.parameters())\n",
    "batch_size = 256\n",
    "epochs = 70\n",
    "train_loss = []\n",
    "val_acc = []\n",
    "train_acc = []\n",
    "\n",
    "for i in range(epochs):\n",
    "    print(\"--- Epoch {} ---\".format(i+1))\n",
    "    epoch_loss = train(model, X_train, y_train, loss_fn, optimizer, batch_size)\n",
    "    train_loss.append(epoch_loss)\n",
    "    print(\"\\tCross Entropy Loss (Training) : {} \".format(epoch_loss))\n",
    "\n",
    "    acc, _ = test(model, X_train, y_train, batchsize=X_train.shape[0])\n",
    "    print(\"\\tTrain Accuracy : {:.2f} % \".format(acc))\n",
    "    train_acc.append(acc)\n",
    "    \n",
    "    acc, _ = test(model, X_valid, y_valid, batchsize=X_valid.shape[0])\n",
    "    print(\"\\tVal Accuracy : {:.2f} % \".format(acc))\n",
    "    val_acc.append(acc)\n",
    "\n",
    "    "
   ]
  },
  {
   "cell_type": "code",
   "execution_count": 13,
   "metadata": {},
   "outputs": [
    {
     "data": {
      "image/png": "[encoded data removed]",
      "text/plain": [
       "<Figure size 504x504 with 1 Axes>"
      ]
     },
     "metadata": {
      "needs_background": "light"
     },
     "output_type": "display_data"
    }
   ],
   "source": [
    "plt.figure(figsize=(7,7))\n",
    "plt.plot(range(epochs), train_loss)\n",
    "plt.xlabel(\"epochs\")\n",
    "plt.ylabel(\"train loss\")\n",
    "plt.title(\"Training Loss\")\n",
    "plt.show()"
   ]
  },
  {
   "cell_type": "code",
   "execution_count": 14,
   "metadata": {},
   "outputs": [
    {
     "data": {
      "image/png": "[encoded data removed]",
      "text/plain": [
       "<Figure size 504x504 with 1 Axes>"
      ]
     },
     "metadata": {
      "needs_background": "light"
     },
     "output_type": "display_data"
    }
   ],
   "source": [
    "plt.figure(figsize=(7,7))\n",
    "plt.plot(range(epochs), train_acc)\n",
    "plt.xlabel(\"epochs\")\n",
    "plt.ylabel(\"train acc\")\n",
    "plt.title(\"Training Accuracy\")\n",
    "plt.show()"
   ]
  },
  {
   "cell_type": "code",
   "execution_count": 15,
   "metadata": {},
   "outputs": [
    {
     "data": {
      "image/png": "[encoded data removed]",
      "text/plain": [
       "<Figure size 504x504 with 1 Axes>"
      ]
     },
     "metadata": {
      "needs_background": "light"
     },
     "output_type": "display_data"
    }
   ],
   "source": [
    "plt.figure(figsize=(7,7))\n",
    "plt.plot(range(epochs), val_acc)\n",
    "plt.xlabel(\"epochs\")\n",
    "plt.ylabel(\"val accuracy\")\n",
    "plt.title(\"Validation Accuracy\")\n",
    "plt.show()"
   ]
  },
  {
   "cell_type": "code",
   "execution_count": 16,
   "metadata": {},
   "outputs": [
    {
     "name": "stdout",
     "output_type": "stream",
     "text": [
      "Test Accuracy : 49.46 % \n",
      "Test Class-wise F1 Score : \n",
      "[0.36363636 0.33476395 0.61118881]\n"
     ]
    }
   ],
   "source": [
    "acc, f1 = test(model, X_test, y_test, batchsize=X_test.shape[0])\n",
    "print(\"Test Accuracy : {:.2f} % \".format(acc))\n",
    "print(\"Test Class-wise F1 Score : \\n{}\".format(f1))"
   ]
  },
  {
   "cell_type": "code",
   "execution_count": null,
   "metadata": {},
   "outputs": [],
   "source": []
  }
 ],
 "metadata": {
  "interpreter": {
   "hash": "f3cbbd3491d2f6c98b8c3d8ad5891315a0953a3882f43d17a58845e943883b72"
  },
  "kernelspec": {
   "display_name": "Python 3",
   "language": "python",
   "name": "python3"
  },
  "language_info": {
   "codemirror_mode": {
    "name": "ipython",
    "version": 3
   },
   "file_extension": ".py",
   "mimetype": "text/x-python",
   "name": "python",
   "nbconvert_exporter": "python",
   "pygments_lexer": "ipython3",
   "version": "3.8.8"
  }
 },
 "nbformat": 4,
 "nbformat_minor": 2
}
